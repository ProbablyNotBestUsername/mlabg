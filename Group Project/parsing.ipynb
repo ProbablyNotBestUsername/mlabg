{
 "cells": [
  {
   "cell_type": "code",
   "execution_count": 28,
   "id": "fefb6145",
   "metadata": {},
   "outputs": [],
   "source": [
    "from bs4 import BeautifulSoup as bs\n",
    "import pandas as pd\n",
    "from pyppeteer import launch # type: ignore"
   ]
  },
  {
   "cell_type": "code",
   "execution_count": 29,
   "id": "373e8c46",
   "metadata": {},
   "outputs": [],
   "source": [
    "async def parse_city_report(page, url):\n",
    "    await page.goto(url, {'waitUntil': 'networkidle2'})\n",
    "    content = await page.content()\n",
    "    soup = bs(content, 'html.parser')\n",
    "\n",
    "    report_id = url.rstrip('/').split('/')[-1]\n",
    "\n",
    "    report_type = None\n",
    "    og = soup.find('meta', {'property': 'og:title'})\n",
    "    if og and og.get('content'):\n",
    "        parts = [p.strip() for p in og['content'].split('/')]\n",
    "        if len(parts) >= 2:\n",
    "            report_type = parts[1]\n",
    "\n",
    "    user_message = None\n",
    "    for msg in soup.select('div.problem-message'):\n",
    "        title_el = msg.select_one('.problem-message__title')\n",
    "        if title_el and title_el.get_text(strip=True).startswith('Сообщение'):\n",
    "            text_div = msg.select_one('div.problem-message__text')\n",
    "            if text_div:\n",
    "                user_message = text_div.get_text(' ', strip=True)\n",
    "            break\n",
    "\n",
    "    return {\n",
    "        'id': report_id,\n",
    "        'type': report_type,\n",
    "        'message': user_message\n",
    "    }"
   ]
  },
  {
   "cell_type": "code",
   "execution_count": null,
   "id": "ea2a0473",
   "metadata": {},
   "outputs": [],
   "source": [
    "async def brows():\n",
    "    browser = await launch(headless=False, args=['--no-sandbox'], executablePath=r\"C:\\Program Files (x86)\\Microsoft\\Edge\\Application\\msedge.exe\")\n",
    "    page = await browser.newPage()\n",
    "    await page.setUserAgent(\"Mozilla/5.0 (Windows NT 10.0; Win64; x64)\")\n",
    "\n",
    "    all_reports = []\n",
    "    for p in range(1, 2):\n",
    "        list_url = f'https://gorod.gov.spb.ru/problems/public/?page={p}'\n",
    "        await page.goto(list_url, {'waitUntil': 'networkidle2'})\n",
    "        content = await page.content()\n",
    "        soup = bs(content, 'html.parser')\n",
    "\n",
    "        links = await page.evaluate('''() => {\n",
    "            return Array.from(document.querySelectorAll('a[href^=\"/problems/\"]'))\n",
    "                .map(a => a.href)\n",
    "                .filter(h => /^https:\\\\/\\\\/gorod\\\\.gov\\\\.spb\\\\.ru\\\\/problems\\\\/\\\\d+\\\\/$/.test(h));\n",
    "        }''')\n",
    "\n",
    "        # de-duplicate\n",
    "        seen = set()\n",
    "        unique_links = []\n",
    "        for link in links:\n",
    "            if link not in seen:\n",
    "                seen.add(link)\n",
    "                unique_links.append(link)\n",
    "\n",
    "        # parse each problem\n",
    "        for link in unique_links:\n",
    "            report = await parse_city_report(page, link)\n",
    "            all_reports.append(report)\n",
    "\n",
    "    await browser.close()\n",
    "    return all_reports\n",
    "all_reports = await brows()\n",
    "reports_df = pd.DataFrame(all_reports)\n"
   ]
  }
 ],
 "metadata": {
  "kernelspec": {
   "display_name": ".venv",
   "language": "python",
   "name": "python3"
  },
  "language_info": {
   "codemirror_mode": {
    "name": "ipython",
    "version": 3
   },
   "file_extension": ".py",
   "mimetype": "text/x-python",
   "name": "python",
   "nbconvert_exporter": "python",
   "pygments_lexer": "ipython3",
   "version": "3.13.3"
  }
 },
 "nbformat": 4,
 "nbformat_minor": 5
}
