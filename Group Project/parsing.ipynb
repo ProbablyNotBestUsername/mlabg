{
 "cells": [
  {
   "cell_type": "code",
   "execution_count": 1,
   "id": "fefb6145",
   "metadata": {},
   "outputs": [],
   "source": [
    "from bs4 import BeautifulSoup as bs\n",
    "import pandas as pd\n",
    "from pyppeteer import launch # type: ignore"
   ]
  },
  {
   "cell_type": "code",
   "execution_count": 2,
   "id": "373e8c46",
   "metadata": {},
   "outputs": [],
   "source": [
    "async def parse_city_report(page, url):\n",
    "    await page.goto(url, {'waitUntil': 'networkidle2'})\n",
    "    content = await page.content()\n",
    "    soup = bs(content, 'html.parser')\n",
    "\n",
    "    report_id = url.rstrip('/').split('/')[-1]\n",
    "\n",
    "    report_type = None\n",
    "    og = soup.find('meta', {'property': 'og:title'})\n",
    "    if og and og.get('content'):\n",
    "        parts = [p.strip() for p in og['content'].split('/')]\n",
    "        if len(parts) >= 2:\n",
    "            report_type = parts[1]\n",
    "\n",
    "    user_message = None\n",
    "    for msg in soup.select('div.problem-message'):\n",
    "        title_el = msg.select_one('.problem-message__title')\n",
    "        if title_el and title_el.get_text(strip=True).startswith('Сообщение'):\n",
    "            text_div = msg.select_one('div.problem-message__text')\n",
    "            if text_div:\n",
    "                user_message = text_div.get_text(' ', strip=True)\n",
    "            break\n",
    "\n",
    "    return {\n",
    "        'id': report_id,\n",
    "        'type': report_type,\n",
    "        'message': user_message\n",
    "    }"
   ]
  },
  {
   "cell_type": "code",
   "execution_count": 3,
   "id": "ea2a0473",
   "metadata": {},
   "outputs": [
    {
     "ename": "TimeoutError",
     "evalue": "Navigation Timeout Exceeded: 30000 ms exceeded.",
     "output_type": "error",
     "traceback": [
      "\u001b[31m---------------------------------------------------------------------------\u001b[39m",
      "\u001b[31mTimeoutError\u001b[39m                              Traceback (most recent call last)",
      "\u001b[36mCell\u001b[39m\u001b[36m \u001b[39m\u001b[32mIn[3]\u001b[39m\u001b[32m, line 34\u001b[39m\n\u001b[32m     32\u001b[39m     \u001b[38;5;28;01mawait\u001b[39;00m browser.close()\n\u001b[32m     33\u001b[39m     \u001b[38;5;28;01mreturn\u001b[39;00m all_reports\n\u001b[32m---> \u001b[39m\u001b[32m34\u001b[39m all_reports = \u001b[38;5;28;01mawait\u001b[39;00m brows()\n\u001b[32m     35\u001b[39m reports_df = pd.DataFrame(all_reports)\n",
      "\u001b[36mCell\u001b[39m\u001b[36m \u001b[39m\u001b[32mIn[3]\u001b[39m\u001b[32m, line 9\u001b[39m, in \u001b[36mbrows\u001b[39m\u001b[34m()\u001b[39m\n\u001b[32m      7\u001b[39m \u001b[38;5;28;01mfor\u001b[39;00m p \u001b[38;5;129;01min\u001b[39;00m \u001b[38;5;28mrange\u001b[39m(\u001b[32m1\u001b[39m, last_page + \u001b[32m1\u001b[39m):\n\u001b[32m      8\u001b[39m     list_url = \u001b[33mf\u001b[39m\u001b[33m'\u001b[39m\u001b[33mhttps://gorod.gov.spb.ru/problems/public/?page=\u001b[39m\u001b[38;5;132;01m{\u001b[39;00mp\u001b[38;5;132;01m}\u001b[39;00m\u001b[33m'\u001b[39m\n\u001b[32m----> \u001b[39m\u001b[32m9\u001b[39m     \u001b[38;5;28;01mawait\u001b[39;00m page.goto(list_url, {\u001b[33m'\u001b[39m\u001b[33mwaitUntil\u001b[39m\u001b[33m'\u001b[39m: \u001b[33m'\u001b[39m\u001b[33mnetworkidle2\u001b[39m\u001b[33m'\u001b[39m})\n\u001b[32m     10\u001b[39m     content = \u001b[38;5;28;01mawait\u001b[39;00m page.content()\n\u001b[32m     11\u001b[39m     soup = bs(content, \u001b[33m'\u001b[39m\u001b[33mhtml.parser\u001b[39m\u001b[33m'\u001b[39m)\n",
      "\u001b[36mFile \u001b[39m\u001b[32mc:\\projects\\mlabg\\.venv\\Lib\\site-packages\\pyppeteer\\page.py:838\u001b[39m, in \u001b[36mPage.goto\u001b[39m\u001b[34m(self, url, options, **kwargs)\u001b[39m\n\u001b[32m    836\u001b[39m error = result[\u001b[32m0\u001b[39m].pop().exception()  \u001b[38;5;66;03m# type: ignore\u001b[39;00m\n\u001b[32m    837\u001b[39m \u001b[38;5;28;01mif\u001b[39;00m error:\n\u001b[32m--> \u001b[39m\u001b[32m838\u001b[39m     \u001b[38;5;28;01mraise\u001b[39;00m error\n\u001b[32m    840\u001b[39m request = requests.get(mainFrame._navigationURL)\n\u001b[32m    841\u001b[39m \u001b[38;5;28;01mreturn\u001b[39;00m request.response \u001b[38;5;28;01mif\u001b[39;00m request \u001b[38;5;28;01melse\u001b[39;00m \u001b[38;5;28;01mNone\u001b[39;00m\n",
      "\u001b[31mTimeoutError\u001b[39m: Navigation Timeout Exceeded: 30000 ms exceeded."
     ]
    }
   ],
   "source": [
    "async def brows():\n",
    "    browser = await launch(headless=False, args=['--no-sandbox'], executablePath=r\"C:\\Program Files (x86)\\Microsoft\\Edge\\Application\\msedge.exe\")\n",
    "    page = await browser.newPage()\n",
    "\n",
    "    all_reports = []\n",
    "    last_page = 10\n",
    "    for p in range(1, last_page + 1):\n",
    "        list_url = f'https://gorod.gov.spb.ru/problems/public/?page={p}'\n",
    "        await page.goto(list_url, {'waitUntil': 'networkidle2'})\n",
    "        content = await page.content()\n",
    "        soup = bs(content, 'html.parser')\n",
    "\n",
    "        links = await page.evaluate('''() => {\n",
    "            return Array.from(document.querySelectorAll('a[href^=\"/problems/\"]'))\n",
    "                .map(a => a.href)\n",
    "                .filter(h => /^https:\\\\/\\\\/gorod\\\\.gov\\\\.spb\\\\.ru\\\\/problems\\\\/\\\\d+\\\\/$/.test(h));\n",
    "        }''')\n",
    "\n",
    "        # de-duplicate\n",
    "        seen = set()\n",
    "        unique_links = []\n",
    "        for link in links:\n",
    "            if link not in seen:\n",
    "                seen.add(link)\n",
    "                unique_links.append(link)\n",
    "\n",
    "        # parse each problem\n",
    "        for link in unique_links:\n",
    "            report = await parse_city_report(page, link)\n",
    "            all_reports.append(report)\n",
    "\n",
    "    await browser.close()\n",
    "    return all_reports\n",
    "all_reports = await brows()\n",
    "reports_df = pd.DataFrame(all_reports)\n"
   ]
  }
 ],
 "metadata": {
  "kernelspec": {
   "display_name": ".venv",
   "language": "python",
   "name": "python3"
  },
  "language_info": {
   "codemirror_mode": {
    "name": "ipython",
    "version": 3
   },
   "file_extension": ".py",
   "mimetype": "text/x-python",
   "name": "python",
   "nbconvert_exporter": "python",
   "pygments_lexer": "ipython3",
   "version": "3.12.5"
  }
 },
 "nbformat": 4,
 "nbformat_minor": 5
}
