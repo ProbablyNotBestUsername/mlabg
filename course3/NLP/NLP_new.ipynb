{
 "cells": [
  {
   "cell_type": "code",
   "execution_count": null,
   "id": "fb556106",
   "metadata": {},
   "outputs": [],
   "source": [
    "import pandas as pd\n",
    "import glob\n",
    "from numpy import float32\n",
    "\n",
    "import pymorphy3\n",
    "from nltk.tokenize import word_tokenize\n",
    "from nltk.corpus import stopwords\n",
    "from nltk.stem.snowball import SnowballStemmer\n",
    "from wordcloud import WordCloud, STOPWORDS\n",
    "import matplotlib.pyplot as plt\n",
    "from sklearn.feature_extraction.text import CountVectorizer, TfidfVectorizer"
   ]
  },
  {
   "cell_type": "code",
   "execution_count": 2,
   "id": "c0899adc",
   "metadata": {},
   "outputs": [],
   "source": [
    "files = glob.glob(r'.\\\\..\\\\Parsing\\\\*.csv')"
   ]
  },
  {
   "cell_type": "code",
   "execution_count": 3,
   "id": "b5dbd5b5",
   "metadata": {},
   "outputs": [],
   "source": [
    "df = pd.DataFrame({\n",
    "    'Author': pd.Series(dtype=str),\n",
    "    'PublishDate': pd.Series(dtype=str),\n",
    "    'Rating': pd.Series(dtype=float32),\n",
    "    'ArticleText': pd.Series(dtype=str),\n",
    "    'CompanyName': pd.Series(dtype=str),\n",
    "    'CompanyDescription': pd.Series(dtype=str)\n",
    "})"
   ]
  },
  {
   "cell_type": "code",
   "execution_count": null,
   "id": "9f48be70",
   "metadata": {},
   "outputs": [],
   "source": [
    "for file in files:\n",
    "    "
   ]
  }
 ],
 "metadata": {
  "kernelspec": {
   "display_name": "Python 3",
   "language": "python",
   "name": "python3"
  },
  "language_info": {
   "codemirror_mode": {
    "name": "ipython",
    "version": 3
   },
   "file_extension": ".py",
   "mimetype": "text/x-python",
   "name": "python",
   "nbconvert_exporter": "python",
   "pygments_lexer": "ipython3",
   "version": "3.13.3"
  }
 },
 "nbformat": 4,
 "nbformat_minor": 5
}
