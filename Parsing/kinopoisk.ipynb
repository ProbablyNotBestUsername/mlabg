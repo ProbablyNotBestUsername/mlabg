{
 "cells": [
  {
   "cell_type": "code",
   "execution_count": 11,
   "metadata": {},
   "outputs": [],
   "source": [
    "import asyncio\n",
    "import re\n",
    "import pandas as pd\n",
    "from pyppeteer import launch # type: ignore"
   ]
  },
  {
   "cell_type": "code",
   "execution_count": null,
   "metadata": {},
   "outputs": [],
   "source": [
    "async def scrape_page(page, page_number):\n",
    "    url = f\"https://www.kinopoisk.ru/lists/movies/top250/?page={page_number}\"\n",
    "    print(f\"Scraping: {url}\")\n",
    "    await page.goto(url)\n",
    "\n",
    "    await page.waitForSelector('[data-test-id=\"movie-list-item\"]')\n",
    "\n",
    "    movie_elements = await page.querySelectorAll('[data-test-id=\"movie-list-item\"]')\n",
    "\n",
    "    movies_data = []\n",
    "    for movie in movie_elements:\n",
    "        title_elem = await movie.querySelector('.styles_mainTitle__IFQyZ')\n",
    "        title = await (await title_elem.getProperty('textContent')).jsonValue() if title_elem else 'N/A'\n",
    "        title = title.strip()\n",
    "\n",
    "        secondary_elem = await movie.querySelector('.desktop-list-main-info_secondaryText__M_aus')\n",
    "        secondary_text = await (\n",
    "            await secondary_elem.getProperty('textContent')).jsonValue() if secondary_elem else 'N/A'\n",
    "        secondary_text = secondary_text.strip()\n",
    "\n",
    "        match = re.search(r'\\b(19|20)\\d{2}\\b', secondary_text)\n",
    "        year = match.group(0) if match else 'N/A'\n",
    "\n",
    "        rating_elem = await movie.querySelector('.styles_kinopoiskValuePositive__7AAZG')\n",
    "        rating = await (await rating_elem.getProperty('textContent')).jsonValue() if rating_elem else 'N/A'\n",
    "        rating = rating.strip()\n",
    "\n",
    "        additional_info_elems = await movie.querySelectorAll('.desktop-list-main-info_additionalInfo__Hqzof')\n",
    "        country = genre = director = 'N/A'\n",
    "        \n",
    "        if additional_info_elems:\n",
    "            text1 = await (await additional_info_elems[0].getProperty('textContent')).jsonValue()\n",
    "            text1 = text1.strip()\n",
    "            if \"Режиссёр:\" in text1:\n",
    "                left, director_text = text1.split(\"Режиссёр:\", 1)\n",
    "                director = director_text.strip()\n",
    "                if \"•\" in left:\n",
    "                    country, genre = [part.strip() for part in left.split(\"•\", 1)]\n",
    "                else:\n",
    "                    country = left.strip()\n",
    "                    genre = 'N/A'\n",
    "            else:\n",
    "                if \"•\" in text1:\n",
    "                    country, genre = [part.strip() for part in text1.split(\"•\", 1)]\n",
    "                else:\n",
    "                    country = text1.strip()\n",
    "                    genre = 'N/A'\n",
    "        \n",
    "\n",
    "        movies_data.append({\n",
    "            'Название': title,\n",
    "            'Год': year,\n",
    "            'Рейтинг': rating,\n",
    "            'Страна': country,\n",
    "            'Жанр': genre,\n",
    "            'Режиссёр': director\n",
    "        })\n",
    "\n",
    "    return movies_data"
   ]
  },
  {
   "cell_type": "code",
   "execution_count": 13,
   "metadata": {},
   "outputs": [],
   "source": [
    "async def scraper():\n",
    "    browser = await launch({\n",
    "        \"headless\": False,\n",
    "        \"executablePath\": r\"C:\\Program Files (x86)\\Microsoft\\Edge\\Application\\msedge.exe\"\n",
    "    })\n",
    "    page = await browser.newPage()\n",
    "    \n",
    "    all_movies = []\n",
    "    for page_number in range(1, 6):\n",
    "        movies_on_page = await scrape_page(page, page_number)\n",
    "        all_movies.extend(movies_on_page)\n",
    "\n",
    "    await browser.close()\n",
    "\n",
    "    df = pd.DataFrame(all_movies)\n",
    "    df[\"Название\"] = df[\"Название\"].astype(str)\n",
    "    df[\"Год\"] = df[\"Год\"].astype(int)\n",
    "    df[\"Рейтинг\"] = df[\"Рейтинг\"].astype(float)\n",
    "    df[\"Страна\"] = df[\"Страна\"].astype(str)\n",
    "    df[\"Жанр\"] = df[\"Жанр\"].astype(str)\n",
    "    df[\"Режиссёр\"] = df[\"Режиссёр\"].astype(str)\n",
    "\n",
    "    df.to_csv(\"kinopoisk250.csv\", sep='\\t', index=False, header=True)\n",
    "    return df"
   ]
  },
  {
   "cell_type": "code",
   "execution_count": 14,
   "metadata": {},
   "outputs": [
    {
     "name": "stdout",
     "output_type": "stream",
     "text": [
      "Scraping: https://www.kinopoisk.ru/lists/movies/top250/?page=1\n",
      "Scraping: https://www.kinopoisk.ru/lists/movies/top250/?page=2\n",
      "Scraping: https://www.kinopoisk.ru/lists/movies/top250/?page=3\n",
      "Scraping: https://www.kinopoisk.ru/lists/movies/top250/?page=4\n",
      "Scraping: https://www.kinopoisk.ru/lists/movies/top250/?page=5\n"
     ]
    }
   ],
   "source": [
    "df = await scraper()"
   ]
  },
  {
   "cell_type": "code",
   "execution_count": 15,
   "metadata": {},
   "outputs": [
    {
     "name": "stdout",
     "output_type": "stream",
     "text": [
      "                       Название   Год  Рейтинг          Страна        Жанр  \\\n",
      "0                           1+1  2011      8.4         Франция       драма   \n",
      "1                  Интерстеллар  2014      8.3             США  фантастика   \n",
      "2             Побег из Шоушенка  1994      8.2             США       драма   \n",
      "3              Остров проклятых  2009      8.1             США     триллер   \n",
      "4                  Зеленая миля  1999      8.1             США       драма   \n",
      "..                          ...   ...      ...             ...         ...   \n",
      "245             Сплетение судеб  2023      7.2         Франция       драма   \n",
      "246               Летят журавли  1957      7.2            СССР     военный   \n",
      "247                     Мементо  2000      7.2             США     триллер   \n",
      "248  Мальчик в полосатой пижаме  2008      7.2  Великобритания       драма   \n",
      "249         Ford против Ferrari  2019      7.2             США   биография   \n",
      "\n",
      "              Режиссёр  \n",
      "0         Оливье Накаш  \n",
      "1      Кристофер Нолан  \n",
      "2       Фрэнк Дарабонт  \n",
      "3      Мартин Скорсезе  \n",
      "4       Фрэнк Дарабонт  \n",
      "..                 ...  \n",
      "245  Летиция Коломбани  \n",
      "246   Михаил Калатозов  \n",
      "247    Кристофер Нолан  \n",
      "248        Марк Херман  \n",
      "249     Джеймс Мэнголд  \n",
      "\n",
      "[250 rows x 6 columns]\n"
     ]
    }
   ],
   "source": [
    "print(df)"
   ]
  }
 ],
 "metadata": {
  "kernelspec": {
   "display_name": "Python 3",
   "language": "python",
   "name": "python3"
  },
  "language_info": {
   "codemirror_mode": {
    "name": "ipython",
    "version": 3
   },
   "file_extension": ".py",
   "mimetype": "text/x-python",
   "name": "python",
   "nbconvert_exporter": "python",
   "pygments_lexer": "ipython3",
   "version": "3.13.0"
  }
 },
 "nbformat": 4,
 "nbformat_minor": 2
}
